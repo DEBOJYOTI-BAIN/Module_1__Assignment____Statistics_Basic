{
  "nbformat": 4,
  "nbformat_minor": 0,
  "metadata": {
    "colab": {
      "provenance": []
    },
    "kernelspec": {
      "name": "python3",
      "display_name": "Python 3"
    },
    "language_info": {
      "name": "python"
    }
  },
  "cells": [
    {
      "cell_type": "markdown",
      "source": [
        "#Statistics Basics | Assignment\n",
        "\n",
        "1. What is the difference between descriptive statistics and inferential\n",
        "statistics? Explain with examples.\n",
        "  - Descriptive Statistics:\n",
        "\n",
        "      - Describes and summarizes data using measures such as mean, median, mode, standard deviation, and visualizations (e.g., histograms, pie charts).\n",
        "\n",
        "      - It does not make predictions or inferences about a larger population.\n",
        "\n",
        "      - Example: The average marks of students in a class is 75%.\n",
        "\n",
        "  - Inferential Statistics:\n",
        "\n",
        "    - Draws conclusions or makes predictions about a population based on a sample of data.\n",
        "\n",
        "    - Uses probability theory, hypothesis testing, confidence intervals, etc.\n",
        "\n",
        "    - Example: Based on a survey of 100 students, predicting the average marks of all students in the university.\n",
        "\n",
        "\n",
        "2.  What is sampling in statistics? Explain the differences between random\n",
        "and stratified sampling.\n",
        "\n",
        "  - Sampling:\n",
        "      - The process of selecting a subset of individuals from a population to estimate characteristics of the entire population.\n",
        "\n",
        "  - Random Sampling:\n",
        "    - Each member has an equal chance of being selected.\n",
        "\n",
        "    - Example: Drawing names from a box randomly.\n",
        "\n",
        "  - Stratified Sampling:\n",
        "    - Population is divided into strata (groups) based on specific characteristics, and samples are taken proportionally from each group.\n",
        "\n",
        "    - Example: Dividing students by department and then sampling proportionally.\n",
        "\n",
        "\n",
        "3.  Define mean, median, and mode. Explain why these measures of central\n",
        "tendency are important.\n",
        "\n",
        "  - Mean: The arithmetic average of the data.\n",
        "\n",
        "  - Median: The middle value when data is arranged in ascending order.\n",
        "\n",
        "  - Mode: The most frequent value in the dataset.\n",
        "\n",
        "  - Importance:\n",
        "\n",
        "    - They provide a summary of the dataset’s central location.\n",
        "\n",
        "    - Mean is useful for normally distributed data, median is robust against outliers, and mode identifies the most common value.\n",
        "\n",
        "\n",
        "4. Explain skewness and kurtosis. What does a positive skew imply about the\n",
        "data?\n",
        "\n",
        "  - Skewness: Measures the asymmetry of data distribution.\n",
        "\n",
        "    - Positive skew: Tail extends to the right (mean > median).\n",
        "\n",
        "    - Negative skew: Tail extends to the left (mean < median).\n",
        "\n",
        "  - Kurtosis: Measures the \"tailedness\" of the data distribution.\n",
        "\n",
        "    - High kurtosis: Heavy tails (more outliers).\n",
        "\n",
        "    - Low kurtosis: Light tails (fewer outliers).\n",
        "\n",
        "  - Positive Skew: Data has a long right tail, meaning more lower values and fewer high extreme values."
      ],
      "metadata": {
        "id": "0oCzcaIYE8Pn"
      }
    },
    {
      "cell_type": "code",
      "source": [
        "#Q5. Implement a Python program to compute the mean, median, and mode of a given list of numbers.\n",
        "# numbers = [12, 15, 12, 18, 19, 12, 20, 22, 19, 19, 24, 24, 24, 26, 28]\n",
        "\n",
        "from statistics import mean, median, mode\n",
        "\n",
        "numbers = [12, 15, 12, 18, 19, 12, 20, 22, 19, 19, 24, 24, 24, 26, 28]\n",
        "\n",
        "mean_value = mean(numbers)\n",
        "median_value = median(numbers)\n",
        "mode_value = mode(numbers)\n",
        "\n",
        "print(\"Mean:\", mean_value)\n",
        "print(\"Median:\", median_value)\n",
        "print(\"Mode:\", mode_value)\n"
      ],
      "metadata": {
        "colab": {
          "base_uri": "https://localhost:8080/"
        },
        "id": "FXokjenfSqZ2",
        "outputId": "405a58e0-5856-4fc8-a49b-ed683a2c8096"
      },
      "execution_count": 1,
      "outputs": [
        {
          "output_type": "stream",
          "name": "stdout",
          "text": [
            "Mean: 19.6\n",
            "Median: 19\n",
            "Mode: 12\n"
          ]
        }
      ]
    },
    {
      "cell_type": "code",
      "source": [
        "#Q6. Compute the covariance and correlation coefficient between the following two datasets provided as lists in Python:\n",
        "#list_x = [10, 20, 30, 40, 50]\n",
        "#list_y = [15, 25, 35, 45, 60]\n",
        "\n",
        "import numpy as np\n",
        "\n",
        "list_x = [10, 20, 30, 40, 50]\n",
        "list_y = [15, 25, 35, 45, 60]\n",
        "\n",
        "cov_matrix = np.cov(list_x, list_y, ddof=1)\n",
        "covariance = cov_matrix[0, 1]\n",
        "\n",
        "correlation = np.corrcoef(list_x, list_y)[0, 1]\n",
        "\n",
        "print(\"Covariance:\", covariance)\n",
        "print(\"Correlation Coefficient:\", correlation)\n"
      ],
      "metadata": {
        "colab": {
          "base_uri": "https://localhost:8080/"
        },
        "id": "cyFqLWiKS_Mm",
        "outputId": "473799f5-0080-49b6-b894-95c960f368d9"
      },
      "execution_count": 2,
      "outputs": [
        {
          "output_type": "stream",
          "name": "stdout",
          "text": [
            "Covariance: 275.0\n",
            "Correlation Coefficient: 0.995893206467704\n"
          ]
        }
      ]
    },
    {
      "cell_type": "code",
      "source": [
        "#Q7. Write a Python script to draw a boxplot for the following numeric list and identify its outliers. Explain the result:\n",
        "#data = [12, 14, 14, 15, 18, 19, 19, 21, 22, 22, 23, 23, 24, 26, 29, 35]\n",
        "\n",
        "import matplotlib.pyplot as plt\n",
        "\n",
        "data = [12, 14, 14, 15, 18, 19, 19, 21, 22, 22, 23, 23, 24, 26, 29, 35]\n",
        "\n",
        "plt.boxplot(data)\n",
        "plt.title(\"Boxplot of Data\")\n",
        "plt.ylabel(\"Values\")\n",
        "plt.show()\n"
      ],
      "metadata": {
        "colab": {
          "base_uri": "https://localhost:8080/",
          "height": 452
        },
        "id": "1Z9N23AJTLIT",
        "outputId": "1103afe0-dd27-47d0-a16d-a4143749e06d"
      },
      "execution_count": 3,
      "outputs": [
        {
          "output_type": "display_data",
          "data": {
            "text/plain": [
              "<Figure size 640x480 with 1 Axes>"
            ],
            "image/png": "[encoded data removed]"
          },
          "metadata": {}
        }
      ]
    },
    {
      "cell_type": "code",
      "source": [
        "#Q8. You are working as a data analyst in an e-commerce company. The marketing team wants to know if there is a relationship between advertising spend and daily sales.\n",
        "# ● Explain how you would use covariance and correlation to explore this relationship.\n",
        "    #Covariance shows the direction of the relationship (positive or negative).\n",
        "    #Correlation shows both direction and strength (from -1 to +1).\n",
        "\n",
        "# ● Write Python code to compute the correlation between the two lists:\n",
        "#advertising_spend = [200, 250, 300, 400, 500]\n",
        "#daily_sales = [2200, 2450, 2750, 3200, 4000]\n",
        "\n",
        "import numpy as np\n",
        "\n",
        "advertising_spend = [200, 250, 300, 400, 500]\n",
        "daily_sales = [2200, 2450, 2750, 3200, 4000]\n",
        "\n",
        "correlation = np.corrcoef(advertising_spend, daily_sales)[0, 1]\n",
        "\n",
        "print(\"Correlation between Advertising Spend and Daily Sales:\", correlation)\n"
      ],
      "metadata": {
        "colab": {
          "base_uri": "https://localhost:8080/"
        },
        "id": "8IzmseyITVD5",
        "outputId": "5b1b1804-33ff-437c-936d-9749670dfac2"
      },
      "execution_count": 5,
      "outputs": [
        {
          "output_type": "stream",
          "name": "stdout",
          "text": [
            "Correlation between Advertising Spend and Daily Sales: 0.9935824101653329\n"
          ]
        }
      ]
    },
    {
      "cell_type": "code",
      "source": [
        "#Q9. Your team has collected customer satisfaction survey data on a scale of 1-10 and wants to understand its distribution before launching a new product.\n",
        "#● Explain which summary statistics and visualizations (e.g. mean, standard deviation, histogram) you’d use.\n",
        "  #Use mean, median, standard deviation to summarize central tendency and spread.\n",
        "  #Use histogram to visualize the frequency distribution.\n",
        "\n",
        "#● Write Python code to create a histogram using Matplotlib for the survey data:\n",
        "#survey_scores = [7, 8, 5, 9, 6, 7, 8, 9, 10, 4, 7, 6, 9, 8, 7]\n",
        "\n",
        "import matplotlib.pyplot as plt\n",
        "import numpy as np\n",
        "\n",
        "survey_scores = [7, 8, 5, 9, 6, 7, 8, 9, 10, 4, 7, 6, 9, 8, 7]\n",
        "\n",
        "mean_score = np.mean(survey_scores)\n",
        "std_dev = np.std(survey_scores, ddof=1)\n",
        "\n",
        "plt.hist(survey_scores, bins=6, edgecolor='black')\n",
        "plt.title(\"Histogram of Customer Satisfaction Scores\")\n",
        "plt.xlabel(\"Scores\")\n",
        "plt.ylabel(\"Frequency\")\n",
        "plt.show()\n",
        "\n",
        "print(\"Mean:\", mean_score)\n",
        "print(\"Standard Deviation:\", std_dev)\n"
      ],
      "metadata": {
        "colab": {
          "base_uri": "https://localhost:8080/",
          "height": 507
        },
        "id": "Cz1uU9QyU4Pg",
        "outputId": "c842c815-09d5-4c50-e879-4e7805d13f90"
      },
      "execution_count": 6,
      "outputs": [
        {
          "output_type": "display_data",
          "data": {
            "text/plain": [
              "<Figure size 640x480 with 1 Axes>"
            ],
            "image/png": "[encoded data removed]"
          },
          "metadata": {}
        },
        {
          "output_type": "stream",
          "name": "stdout",
          "text": [
            "Mean: 7.333333333333333\n",
            "Standard Deviation: 1.632993161855452\n"
          ]
        }
      ]
    }
  ]
}